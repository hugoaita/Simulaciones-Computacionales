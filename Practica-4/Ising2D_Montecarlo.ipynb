{
 "cells": [
  {
   "cell_type": "markdown",
   "metadata": {},
   "source": [
    "# Ising 2D \n",
    "## Simulaciones Montecarlo , Algoritmo de Metropolis"
   ]
  },
  {
   "cell_type": "code",
   "execution_count": 1,
   "metadata": {},
   "outputs": [],
   "source": [
    "import numpy as np\n",
    "import matplotlib.pyplot as plt\n",
    "import random"
   ]
  },
  {
   "cell_type": "markdown",
   "metadata": {},
   "source": [
    "###   Definimos los parámetros del sistema"
   ]
  },
  {
   "cell_type": "code",
   "execution_count": 2,
   "metadata": {},
   "outputs": [],
   "source": [
    "L = 50  # Tamaño del sistema (LxL)\n",
    "J = 1  # Energía de interacción entre espines\n",
    "T = 1.7  # Temperatura\n",
    "num_pasos = 20000"
   ]
  },
  {
   "cell_type": "code",
   "execution_count": 3,
   "metadata": {},
   "outputs": [],
   "source": [
    "def calcular_energia(spins):\n",
    "    energia = 0\n",
    "    for i in range(L):\n",
    "        for j in range(L):\n",
    "            energia += -J * spins[i, j] * (spins[(i + 1) % L, j] +spins[(i - 1) % L, j]+ spins[i, (j + 1) % L]+spins[i, (j - 1) % L])\n",
    "    return energia"
   ]
  },
  {
   "cell_type": "code",
   "execution_count": 4,
   "metadata": {},
   "outputs": [],
   "source": [
    "def metropolis(spins, temperatura):\n",
    "    i, j = random.randint(0, L - 1), random.randint(0, L - 1)\n",
    "    delta_energia = 2 * J * spins[i, j] * (spins[(i + 1) % L, j] + spins[(i - 1) % L, j] +\n",
    "                                           spins[i, (j + 1) % L] + spins[i, (j - 1) % L])\n",
    "    if delta_energia < 0 or random.random() < np.exp(-delta_energia / temperatura):\n",
    "        spins[i, j] *= -1"
   ]
  },
  {
   "cell_type": "code",
   "execution_count": 5,
   "metadata": {},
   "outputs": [],
   "source": [
    "def mag(T):\n",
    "    if T > 2/np.log(1+np.sqrt(2)):\n",
    "        return(0)\n",
    "    else:\n",
    "        return((1-(np.sinh(2/T))**(-4))**(1/8))"
   ]
  },
  {
   "cell_type": "code",
   "execution_count": 6,
   "metadata": {},
   "outputs": [],
   "source": [
    "def calcular_magnetizacion(spins):\n",
    "    return np.sum(spins) / (L * L)"
   ]
  },
  {
   "cell_type": "code",
   "execution_count": 7,
   "metadata": {},
   "outputs": [],
   "source": [
    "#spins = np.random.choice([-1, 1], size=(L, L))\n",
    "spins = np.ones((L, L))\n",
    "magnetizacion = []\n",
    "energias = []"
   ]
  },
  {
   "cell_type": "code",
   "execution_count": 8,
   "metadata": {},
   "outputs": [
    {
     "ename": "NameError",
     "evalue": "name 'metropolis_step' is not defined",
     "output_type": "error",
     "traceback": [
      "\u001b[1;31m---------------------------------------------------------------------------\u001b[0m",
      "\u001b[1;31mNameError\u001b[0m                                 Traceback (most recent call last)",
      "\u001b[1;32mc:\\Users\\javie\\OneDrive\\Documentos\\SimulacionesComputacionales\\SimulacionesComputacionales\\Practica-4\\Ising2D_Montecarlo.ipynb Celda 10\u001b[0m line \u001b[0;36m2\n\u001b[0;32m      <a href='vscode-notebook-cell:/c%3A/Users/javie/OneDrive/Documentos/SimulacionesComputacionales/SimulacionesComputacionales/Practica-4/Ising2D_Montecarlo.ipynb#X12sZmlsZQ%3D%3D?line=0'>1</a>\u001b[0m \u001b[39mfor\u001b[39;00m paso \u001b[39min\u001b[39;00m \u001b[39mrange\u001b[39m(num_pasos):\n\u001b[1;32m----> <a href='vscode-notebook-cell:/c%3A/Users/javie/OneDrive/Documentos/SimulacionesComputacionales/SimulacionesComputacionales/Practica-4/Ising2D_Montecarlo.ipynb#X12sZmlsZQ%3D%3D?line=1'>2</a>\u001b[0m     metropolis_step(spins, T)\n\u001b[0;32m      <a href='vscode-notebook-cell:/c%3A/Users/javie/OneDrive/Documentos/SimulacionesComputacionales/SimulacionesComputacionales/Practica-4/Ising2D_Montecarlo.ipynb#X12sZmlsZQ%3D%3D?line=2'>3</a>\u001b[0m     energia \u001b[39m=\u001b[39m calcular_energia(spins)\n\u001b[0;32m      <a href='vscode-notebook-cell:/c%3A/Users/javie/OneDrive/Documentos/SimulacionesComputacionales/SimulacionesComputacionales/Practica-4/Ising2D_Montecarlo.ipynb#X12sZmlsZQ%3D%3D?line=3'>4</a>\u001b[0m     energias\u001b[39m.\u001b[39mappend(energia)\n",
      "\u001b[1;31mNameError\u001b[0m: name 'metropolis_step' is not defined"
     ]
    }
   ],
   "source": [
    "for paso in range(num_pasos):\n",
    "    metropolis(spins, T)\n",
    "    energia = calcular_energia(spins)\n",
    "    energias.append(energia)\n",
    "    magnetizacion1 = calcular_magnetizacion(spins)\n",
    "    magnetizacion.append(magnetizacion1)"
   ]
  },
  {
   "cell_type": "code",
   "execution_count": null,
   "metadata": {},
   "outputs": [],
   "source": [
    "plt.figure(figsize=(10, 6))\n",
    "plt.plot(magnetizacion,'*',markersize=1)\n",
    "plt.xlabel('Paso de Monte Carlo')\n",
    "plt.ylabel('Magnetización')\n",
    "plt.ylim([0.8,1.0])\n",
    "plt.axhline(mag(T), color='grey',linestyle='--',linewidth=2)\n",
    "plt.title('Evolución de la Magentización en el modelo de Ising 2D')\n",
    "plt.show()"
   ]
  },
  {
   "cell_type": "code",
   "execution_count": null,
   "metadata": {},
   "outputs": [],
   "source": [
    "plt.figure(figsize=(10, 6))\n",
    "plt.plot(energias)\n",
    "plt.xlabel('Paso de Monte Carlo')\n",
    "plt.ylabel('Energía')\n",
    "plt.title('Evolución de la energía en el modelo de Ising 2D')\n",
    "plt.show()"
   ]
  }
 ],
 "metadata": {
  "kernelspec": {
   "display_name": "Python 3",
   "language": "python",
   "name": "python3"
  },
  "language_info": {
   "codemirror_mode": {
    "name": "ipython",
    "version": 3
   },
   "file_extension": ".py",
   "mimetype": "text/x-python",
   "name": "python",
   "nbconvert_exporter": "python",
   "pygments_lexer": "ipython3",
   "version": "3.11.2"
  }
 },
 "nbformat": 4,
 "nbformat_minor": 2
}
